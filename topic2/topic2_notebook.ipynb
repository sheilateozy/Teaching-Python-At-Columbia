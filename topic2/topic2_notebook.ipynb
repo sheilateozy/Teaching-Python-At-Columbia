{
 "cells": [
  {
   "cell_type": "markdown",
   "metadata": {},
   "source": [
    "# Deep Dive: Integers & Floats"
   ]
  },
  {
   "cell_type": "markdown",
   "metadata": {},
   "source": [
    "## 1) Converting to Integer"
   ]
  },
  {
   "cell_type": "code",
   "execution_count": null,
   "metadata": {},
   "outputs": [],
   "source": [
    "print(int(6.0))\n",
    "print(int(6.75))"
   ]
  },
  {
   "cell_type": "markdown",
   "metadata": {},
   "source": [
    "## 2) Converting to Float"
   ]
  },
  {
   "cell_type": "code",
   "execution_count": null,
   "metadata": {},
   "outputs": [],
   "source": [
    "print(float(6))"
   ]
  },
  {
   "cell_type": "markdown",
   "metadata": {},
   "source": [
    "## 3) Converting From Strings"
   ]
  },
  {
   "cell_type": "code",
   "execution_count": null,
   "metadata": {},
   "outputs": [],
   "source": [
    "print(int('6.75'))"
   ]
  },
  {
   "cell_type": "code",
   "execution_count": null,
   "metadata": {},
   "outputs": [],
   "source": [
    "print(int('six'))"
   ]
  },
  {
   "cell_type": "code",
   "execution_count": null,
   "metadata": {},
   "outputs": [],
   "source": [
    "print(float('6.75'))"
   ]
  },
  {
   "cell_type": "markdown",
   "metadata": {},
   "source": [
    "## 4) Some Math Fun"
   ]
  },
  {
   "cell_type": "code",
   "execution_count": null,
   "metadata": {
    "scrolled": true
   },
   "outputs": [],
   "source": [
    "print(6 + 15)\n",
    "print(6 * 12)\n",
    "print(6.5 - 8)\n",
    "print(45 / 9)"
   ]
  },
  {
   "cell_type": "markdown",
   "metadata": {},
   "source": [
    "## 5) Math with Strings"
   ]
  },
  {
   "cell_type": "code",
   "execution_count": null,
   "metadata": {},
   "outputs": [],
   "source": [
    "print('Math is' + 'fun')\n",
    "print('zig' * 2)"
   ]
  },
  {
   "cell_type": "markdown",
   "metadata": {},
   "source": [
    "## 6) Useful Math for Algorithmic Questions\n"
   ]
  },
  {
   "cell_type": "code",
   "execution_count": null,
   "metadata": {},
   "outputs": [],
   "source": [
    "print(7 // 4)\n",
    "print(7 % 2)\n",
    "print(2 ** 5)"
   ]
  },
  {
   "cell_type": "markdown",
   "metadata": {},
   "source": [
    "### Try it!"
   ]
  },
  {
   "cell_type": "markdown",
   "metadata": {},
   "source": [
    "You are the manager at a bustling Chelsea restaurant and one of your key responsibilities is to oversee reservations to allow the most number of guests to be seated every night.\n",
    "\n",
    "A large reservation for 100 guests just came in and you must determine the best table configuration to accommodate this group of guests. Write Python code to answer the following questions:\n",
    "* The tables can seat 7 guests. How many tables will need to be reserved?\n",
    "* How many guests in this group will not be seated at a full table?\n",
    "* You expect each table to spend around \\\\$500 if they are at a full table and \\\\$50 per person if they are not at a full table. \n",
    "* What is the expected revenue from this reservation? \n",
    "* If there is 22% gratuity, what is the group’s total expenditure?"
   ]
  },
  {
   "cell_type": "code",
   "execution_count": null,
   "metadata": {},
   "outputs": [],
   "source": []
  },
  {
   "cell_type": "markdown",
   "metadata": {},
   "source": [
    "# Deep Dive: Lists"
   ]
  },
  {
   "cell_type": "markdown",
   "metadata": {},
   "source": [
    "## 1) List Slicing"
   ]
  },
  {
   "cell_type": "code",
   "execution_count": null,
   "metadata": {},
   "outputs": [],
   "source": [
    "letters = ['a', 'b', 'c', 'd']\n",
    "print(letters[:2])\n",
    "print(letters[-3:])\n",
    "print(letters[1:])"
   ]
  },
  {
   "cell_type": "markdown",
   "metadata": {},
   "source": [
    "## 2) List Methods"
   ]
  },
  {
   "cell_type": "code",
   "execution_count": null,
   "metadata": {},
   "outputs": [],
   "source": [
    "letters = ['a', 'b', 'c', 'd']\n",
    "letters.append(True)"
   ]
  },
  {
   "cell_type": "code",
   "execution_count": null,
   "metadata": {},
   "outputs": [],
   "source": [
    "letters = ['a', 'b', 'c', 'd']\n",
    "letters.append(True)\n",
    "print(letters)"
   ]
  },
  {
   "cell_type": "code",
   "execution_count": null,
   "metadata": {},
   "outputs": [],
   "source": [
    "letters = ['a', 'b', 'c', 'd']\n",
    "numbers = [1, 2, 3]\n",
    "letters.extend(numbers)\n",
    "print(letters)"
   ]
  },
  {
   "cell_type": "code",
   "execution_count": null,
   "metadata": {},
   "outputs": [],
   "source": [
    "letters = ['a', 'b', 'c', 'd']\n",
    "letters.insert(-1, 'z')\n",
    "print(letters)"
   ]
  },
  {
   "cell_type": "code",
   "execution_count": null,
   "metadata": {},
   "outputs": [],
   "source": [
    "letters = ['a', 'b', 'c', 'd']\n",
    "letters[0] = 100\n",
    "print(letters)"
   ]
  },
  {
   "cell_type": "code",
   "execution_count": null,
   "metadata": {},
   "outputs": [],
   "source": [
    "numbers = [20, 48, 3]\n",
    "numbers.sort(reverse=True)\n",
    "print(numbers)"
   ]
  },
  {
   "cell_type": "code",
   "execution_count": null,
   "metadata": {},
   "outputs": [],
   "source": [
    "numbers.sort(reverse=False)\n",
    "print(numbers)"
   ]
  },
  {
   "cell_type": "code",
   "execution_count": null,
   "metadata": {},
   "outputs": [],
   "source": [
    "words = ['this', 'may', 'be', 'cool']\n",
    "words.sort(reverse=True)\n",
    "print(words)"
   ]
  },
  {
   "cell_type": "code",
   "execution_count": null,
   "metadata": {},
   "outputs": [],
   "source": [
    "words = ['this', 'may', 'be', 'cool' '!', '2']\n",
    "words.sort(reverse=False)"
   ]
  },
  {
   "cell_type": "code",
   "execution_count": null,
   "metadata": {},
   "outputs": [],
   "source": [
    "words = ['this', 'may', 'be', 'cool' '!', 2]\n",
    "words.sort(reverse=False)"
   ]
  },
  {
   "cell_type": "code",
   "execution_count": null,
   "metadata": {},
   "outputs": [],
   "source": [
    "letters = ['a', 'b', 'c', 'd']\n",
    "last_elem = letters.pop()\n",
    "print(last_elem)\n",
    "print(letters)"
   ]
  },
  {
   "cell_type": "code",
   "execution_count": null,
   "metadata": {},
   "outputs": [],
   "source": [
    "var = letters.append(6)\n",
    "print(var)"
   ]
  },
  {
   "cell_type": "markdown",
   "metadata": {},
   "source": [
    "### Try it!"
   ]
  },
  {
   "cell_type": "markdown",
   "metadata": {},
   "source": [
    "You are given a list of profits, each element corresponding to profits from a different consumer group.\n",
    "\n",
    "`profits = [180, 230, 567, 4900]`\n",
    "\n",
    "Your company has just started targeting a new group of consumers, making a profit of $90 from them (sounds like this targeting strategy isn’t great!).\n",
    "\n",
    "1) Update the company’s profit list to reflect this. <br>\n",
    "2) Return the top 2 highest profits made in a list of the following format: `[highest_profit, second_highest_profit]` <br>\n",
    "Note: We don’t care about the other profit figures, only return the top 2!\n"
   ]
  },
  {
   "cell_type": "code",
   "execution_count": null,
   "metadata": {},
   "outputs": [],
   "source": []
  },
  {
   "cell_type": "markdown",
   "metadata": {},
   "source": [
    "### Try it!"
   ]
  },
  {
   "cell_type": "markdown",
   "metadata": {},
   "source": [
    "Your company started targeting even more consumer groups, and your profit list has expanded to include them:\n",
    "\n",
    "`profits = [180, 230, 567, 4900, 2940, 249, 8341, 9234, 923, 8954, 8123, 7159, 8932, 59, 1001, 9230, 294, 2465, 9845, 2865, 278, 135]`\n",
    "\n",
    "You have another list depicting the names of all the consumer groups corresponding to the profits list, ie: The consumer group at index i of the names list generated a profit at index i of the profits list."
   ]
  },
  {
   "cell_type": "markdown",
   "metadata": {},
   "source": [
    "`consumer_group_names = ['under_eighteen', 'over_twenty', 'elderly', 'married', 'single', 'divorced', 'with_kids', 'without_kids', 'luxury', 'budget', 'value-for-money', 'north', 'south', 'east', 'west', 'domestic', 'international', 'working', 'retired', 'student', 'unemployed', 'male', 'female']`\n",
    "\n",
    "Find the name of consumer group generating the most profits.\n",
    "\n",
    "Remember: the consumer at index 2 in `consumer_group_names` (elderly) generated the profit at index 2 in `profits` on the previous slide (567)"
   ]
  },
  {
   "cell_type": "code",
   "execution_count": null,
   "metadata": {},
   "outputs": [],
   "source": []
  },
  {
   "cell_type": "markdown",
   "metadata": {},
   "source": [
    "### Try it!"
   ]
  },
  {
   "cell_type": "markdown",
   "metadata": {},
   "source": [
    "Your company has re-invented the way it stores its data, and your profits list has become:\n",
    "\n",
    "`profits = [['under_eighteen', 243], ['over_twenty', 937], ['elderly', 824], ['married', 123], ['single', 343]]`\n",
    "\n",
    "Return the profits made in the over_twenty consumer group."
   ]
  },
  {
   "cell_type": "code",
   "execution_count": null,
   "metadata": {},
   "outputs": [],
   "source": []
  },
  {
   "cell_type": "markdown",
   "metadata": {},
   "source": [
    "# Deep Dive: Tuples"
   ]
  },
  {
   "cell_type": "code",
   "execution_count": null,
   "metadata": {},
   "outputs": [],
   "source": [
    "my_tuple = (1, 'a', 'b', False, 32, [5,6])\n",
    "print(my_tuple[2])\n",
    "print(my_tuple[4:6])"
   ]
  },
  {
   "cell_type": "code",
   "execution_count": null,
   "metadata": {},
   "outputs": [],
   "source": []
  }
 ],
 "metadata": {
  "kernelspec": {
   "display_name": "Python 3",
   "language": "python",
   "name": "python3"
  },
  "language_info": {
   "codemirror_mode": {
    "name": "ipython",
    "version": 3
   },
   "file_extension": ".py",
   "mimetype": "text/x-python",
   "name": "python",
   "nbconvert_exporter": "python",
   "pygments_lexer": "ipython3",
   "version": "3.8.8"
  }
 },
 "nbformat": 4,
 "nbformat_minor": 4
}
