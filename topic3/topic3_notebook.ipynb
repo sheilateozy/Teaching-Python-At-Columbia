{
 "cells": [
  {
   "cell_type": "markdown",
   "metadata": {},
   "source": [
    "# Logic Operators"
   ]
  },
  {
   "cell_type": "markdown",
   "metadata": {},
   "source": [
    "## 1) The Basics"
   ]
  },
  {
   "cell_type": "code",
   "execution_count": null,
   "metadata": {},
   "outputs": [],
   "source": [
    "2 < 5"
   ]
  },
  {
   "cell_type": "code",
   "execution_count": null,
   "metadata": {},
   "outputs": [],
   "source": [
    "x = 10\n",
    "y = 11\n",
    "x == y"
   ]
  },
  {
   "cell_type": "code",
   "execution_count": null,
   "metadata": {},
   "outputs": [],
   "source": [
    "list1 = [5, 6]\n",
    "list2 = [5, 6, 7]\n",
    "list1 != list2"
   ]
  },
  {
   "cell_type": "markdown",
   "metadata": {},
   "source": [
    "## 2) Combining Multiple Logic Operations"
   ]
  },
  {
   "cell_type": "code",
   "execution_count": null,
   "metadata": {},
   "outputs": [],
   "source": [
    "x = 'hi'\n",
    "y = 'bye'\n",
    "z = 'hi'\n",
    "(x!=y) and (x==z)"
   ]
  },
  {
   "cell_type": "code",
   "execution_count": null,
   "metadata": {},
   "outputs": [],
   "source": [
    "x = False\n",
    "y = False\n",
    "z = True\n",
    "(x==y) or (x==z)"
   ]
  },
  {
   "cell_type": "markdown",
   "metadata": {},
   "source": [
    "## 3) Logic Operations With Iterables"
   ]
  },
  {
   "cell_type": "code",
   "execution_count": null,
   "metadata": {},
   "outputs": [],
   "source": [
    "tuple_of_letters = ('a', 'b', 'c')\n",
    "'b' not in tuple_of_letters"
   ]
  },
  {
   "cell_type": "code",
   "execution_count": null,
   "metadata": {},
   "outputs": [],
   "source": [
    "list_of_lists = [[1, 2], [3, 4], [5, 6]]\n",
    "[3, 4] in list_of_lists"
   ]
  },
  {
   "cell_type": "markdown",
   "metadata": {},
   "source": [
    "### Try it!"
   ]
  },
  {
   "cell_type": "markdown",
   "metadata": {},
   "source": [
    "You are about to go on a Twitter rant, but first, let’s check if what you want to say satisfies the 280-character limit. \n",
    "\n",
    "Your code should return True if your rant satisfies the limit and False if it does not."
   ]
  },
  {
   "cell_type": "code",
   "execution_count": null,
   "metadata": {},
   "outputs": [],
   "source": [
    "rant = 'Despite the constant negative press covfefe'"
   ]
  },
  {
   "cell_type": "code",
   "execution_count": null,
   "metadata": {},
   "outputs": [],
   "source": []
  },
  {
   "cell_type": "markdown",
   "metadata": {},
   "source": [
    "### Try it!"
   ]
  },
  {
   "cell_type": "markdown",
   "metadata": {},
   "source": [
    "Your company is in the process of acquiring beverage and clothing companies. Check if either Coca Cola (beverage company) or if H&M (clothing company) has been acquired so far by returning True/ False."
   ]
  },
  {
   "cell_type": "code",
   "execution_count": null,
   "metadata": {},
   "outputs": [],
   "source": [
    "acquired_beverage_companies = ('Mountain Dew', '7-Up', 'Pepsi')\n",
    "acquired_clothing_companies = ('Ralph Lauren', 'H&M')"
   ]
  },
  {
   "cell_type": "code",
   "execution_count": null,
   "metadata": {},
   "outputs": [],
   "source": []
  },
  {
   "cell_type": "markdown",
   "metadata": {},
   "source": [
    "# If-Else Statements"
   ]
  },
  {
   "cell_type": "markdown",
   "metadata": {},
   "source": [
    "## 1) If Statements"
   ]
  },
  {
   "cell_type": "code",
   "execution_count": null,
   "metadata": {},
   "outputs": [],
   "source": [
    "if 'a' in 'alabama':\n",
    "    print('Contains \"a\"')"
   ]
  },
  {
   "cell_type": "code",
   "execution_count": null,
   "metadata": {},
   "outputs": [],
   "source": [
    "if 'z' in 'alabama':\n",
    "    print('Contains \"z\"')"
   ]
  },
  {
   "cell_type": "markdown",
   "metadata": {},
   "source": [
    "## 2) If-Else Statements"
   ]
  },
  {
   "cell_type": "code",
   "execution_count": null,
   "metadata": {},
   "outputs": [],
   "source": [
    "x = 5\n",
    "if x % 2 == 0:\n",
    "    print ('x is even')\n",
    "else:\n",
    "    print ('x is odd')"
   ]
  },
  {
   "cell_type": "markdown",
   "metadata": {},
   "source": [
    "## 3) Elif Statements"
   ]
  },
  {
   "cell_type": "code",
   "execution_count": null,
   "metadata": {},
   "outputs": [],
   "source": [
    "x = 9\n",
    "if x % 2 == 0:\n",
    "    print ('x is divisible by 2')\n",
    "elif x % 3 == 0:\n",
    "    print('x is divisible by 3')\n",
    "else:\n",
    "    print ('x is neither divisible by 2 nor 3')"
   ]
  },
  {
   "cell_type": "markdown",
   "metadata": {},
   "source": [
    "## 4) Using If VS Elif For Further Conditions"
   ]
  },
  {
   "cell_type": "code",
   "execution_count": null,
   "metadata": {},
   "outputs": [],
   "source": [
    "x = 6\n",
    "if x % 2 == 0:\n",
    "    print ('x is divisible by 2')\n",
    "if x % 3 == 0:\n",
    "    print('x is divisible by 3')\n",
    "else:\n",
    "    print ('x is neither divisible by 2 nor 3')"
   ]
  },
  {
   "cell_type": "code",
   "execution_count": null,
   "metadata": {},
   "outputs": [],
   "source": [
    "x = 6\n",
    "if x % 2 == 0:\n",
    "    print ('x is divisible by 2')\n",
    "elif x % 3 == 0:\n",
    "    print('x is divisible by 3')\n",
    "else:\n",
    "    print ('x is neither divisible by 2 nor 3')"
   ]
  },
  {
   "cell_type": "markdown",
   "metadata": {},
   "source": [
    "### Try it!"
   ]
  },
  {
   "cell_type": "markdown",
   "metadata": {},
   "source": [
    "You have just finished lunch with your colleagues. As the server presents the check for your party, you wonder what is the appropriate gratuity given the party size. Write Python code to calculate the total spending including gratuity using the following tipping guidelines: <br>\n",
    "* If the party has 4 people or less, give a tip of 15% (of the cost of the meal) <br>\n",
    "* If the party has between 5 and 8 people inclusive, give a tip of 18% <br>\n",
    "* If the party has more than 8 people, give a tip of 20%\n",
    "\n",
    "Start with the following example, but write code that would work whatever the value of these variables:\n",
    "* `party_size = 6`\n",
    "* `bill = 132`"
   ]
  },
  {
   "cell_type": "code",
   "execution_count": null,
   "metadata": {},
   "outputs": [],
   "source": []
  },
  {
   "cell_type": "markdown",
   "metadata": {},
   "source": [
    "## 5) Nested If Conditions"
   ]
  },
  {
   "cell_type": "code",
   "execution_count": null,
   "metadata": {},
   "outputs": [],
   "source": [
    "x = 6\n",
    "if x % 2 == 0:\n",
    "    if x % 4 == 0:\n",
    "        print('x is divisible by both 2 and 4')\n",
    "    else:\n",
    "        print('x is divisible by 2 but not 4')\n",
    "else:\n",
    "    print('x is not divisible by 2')"
   ]
  },
  {
   "cell_type": "markdown",
   "metadata": {},
   "source": [
    "### Try it!"
   ]
  },
  {
   "cell_type": "markdown",
   "metadata": {},
   "source": [
    "You are assessing the valuation of an upscale apartment complex. You want to make adjustments to the valuation determined by your company’s proprietary valuation algorithm based on your observations. Based on your experience, you know that a studio apartment and apartments with 1 bedroom or more should be assessed differently. \n",
    "\n",
    "If the studio apartment has an unblocked view, adjust the valuation by increasing it by 4%. Otherwise, adjust it by decreasing it by 1%. For apartments with bedrooms, adjust its valuation by increasing it by 2% regardless of the view (since these apartments usually have more than one view).\n",
    "\n",
    "Write Python code to determine the final valuation and use the following Boolean variables: `is_studio`, `has_view`"
   ]
  },
  {
   "cell_type": "code",
   "execution_count": null,
   "metadata": {},
   "outputs": [],
   "source": []
  },
  {
   "cell_type": "markdown",
   "metadata": {},
   "source": [
    "# Loops"
   ]
  },
  {
   "cell_type": "markdown",
   "metadata": {},
   "source": [
    "## 1) While Loops"
   ]
  },
  {
   "cell_type": "code",
   "execution_count": null,
   "metadata": {},
   "outputs": [],
   "source": [
    "x = 0\n",
    "list_of_zeros = []\n",
    "\n",
    "while x < 3:\n",
    "    list_of_zeros.append(0)\n",
    "    x += 1\n",
    "\n",
    "print(list_of_zeros)"
   ]
  },
  {
   "cell_type": "code",
   "execution_count": null,
   "metadata": {},
   "outputs": [],
   "source": [
    "#infinite loop\n",
    "\n",
    "x = 0\n",
    "list_of_zeros = []\n",
    "\n",
    "while x < 3:\n",
    "    list_of_zeros.append(0)"
   ]
  },
  {
   "cell_type": "markdown",
   "metadata": {},
   "source": [
    "### Try it!"
   ]
  },
  {
   "cell_type": "markdown",
   "metadata": {},
   "source": [
    "You are given the following variable x: `x = 3`\n",
    "\n",
    "Use a while loop to successively increase the value of the variable x by 2 until it becomes bigger than 10."
   ]
  },
  {
   "cell_type": "code",
   "execution_count": null,
   "metadata": {},
   "outputs": [],
   "source": []
  },
  {
   "cell_type": "markdown",
   "metadata": {},
   "source": [
    "### Try it!"
   ]
  },
  {
   "cell_type": "markdown",
   "metadata": {},
   "source": [
    "You are looking to make investments. You have a list of possible investments:\n",
    "\n",
    "`possible_investments = [1922, 352, 2454, 3565]`\n",
    "\n",
    "Find out the number of investments you can make given a budget of $3000, assuming you must invest from left to right of the above list.\n"
   ]
  },
  {
   "cell_type": "code",
   "execution_count": null,
   "metadata": {},
   "outputs": [],
   "source": []
  },
  {
   "cell_type": "markdown",
   "metadata": {},
   "source": [
    "## 2) For Loops"
   ]
  },
  {
   "cell_type": "code",
   "execution_count": null,
   "metadata": {},
   "outputs": [],
   "source": [
    "states = ['NY', 'CA', 'FL', 'MA']\n",
    "for state in states:\n",
    "    print(state)"
   ]
  },
  {
   "cell_type": "code",
   "execution_count": null,
   "metadata": {},
   "outputs": [],
   "source": [
    "states = 'Texas'\n",
    "for letter in states:\n",
    "    print(letter)"
   ]
  },
  {
   "cell_type": "code",
   "execution_count": null,
   "metadata": {},
   "outputs": [],
   "source": [
    "stocks = ['fb', 'aapl', 'nflx', 'goog']\n",
    "\n",
    "for stock in stocks:\n",
    "    print(stock.upper())"
   ]
  },
  {
   "cell_type": "markdown",
   "metadata": {},
   "source": [
    "### Try it!"
   ]
  },
  {
   "cell_type": "markdown",
   "metadata": {},
   "source": [
    "You are about to send out a monthly email to your clients to update them about your company's latest products. Your clients’ emails are:\n",
    "\n",
    "`list_of_emails = [\"ej9212@columbia.edu\", \"sj4837@harvard.edu\", \"jk6666nyu.edu\"]`\n",
    "\n",
    "Write code that checks if the database of emails you have is valid, ie. check if each email address contains the symbol ‘@’.\n"
   ]
  },
  {
   "cell_type": "code",
   "execution_count": null,
   "metadata": {},
   "outputs": [],
   "source": []
  },
  {
   "cell_type": "code",
   "execution_count": null,
   "metadata": {},
   "outputs": [],
   "source": []
  },
  {
   "cell_type": "markdown",
   "metadata": {},
   "source": [
    "## 3) For Range"
   ]
  },
  {
   "cell_type": "code",
   "execution_count": null,
   "metadata": {},
   "outputs": [],
   "source": [
    "x = range(3, 6)\n",
    "for num in x:\n",
    "    print(num)"
   ]
  },
  {
   "cell_type": "code",
   "execution_count": null,
   "metadata": {},
   "outputs": [],
   "source": [
    "employees = 5\n",
    "expenditure = 0\n",
    "\n",
    "for i in range(employees):\n",
    "    expenditure += 1500\n",
    "\n",
    "print(expenditure)"
   ]
  },
  {
   "cell_type": "markdown",
   "metadata": {},
   "source": [
    "## 4) Break"
   ]
  },
  {
   "cell_type": "code",
   "execution_count": null,
   "metadata": {},
   "outputs": [],
   "source": [
    "stocks = ['fb', 'aapl', 'nflx', 'goog']\n",
    "for stock in stocks:\n",
    "    if stock == 'aapl':\n",
    "        break\n",
    "    else:\n",
    "        print(stock.upper())"
   ]
  },
  {
   "cell_type": "markdown",
   "metadata": {},
   "source": [
    "## 5) Continue"
   ]
  },
  {
   "cell_type": "code",
   "execution_count": null,
   "metadata": {},
   "outputs": [],
   "source": [
    "stocks = ['fb', 'aapl', 'nflx', 'goog']\n",
    "for stock in stocks:\n",
    "    if stock == 'aapl':\n",
    "        continue\n",
    "    else:\n",
    "        print(stock.upper())"
   ]
  },
  {
   "cell_type": "markdown",
   "metadata": {},
   "source": [
    "### Try it!"
   ]
  },
  {
   "cell_type": "markdown",
   "metadata": {},
   "source": [
    "You are keeping track of your weekly budget in a list. \n",
    "Write code to calculate your average daily expenditure.\n",
    "\n",
    "`budget = [42, 102, 12, 63, 9, 88, 65]`\n",
    "\n",
    "Be sure to check that your code works for lists of different lengths."
   ]
  },
  {
   "cell_type": "code",
   "execution_count": null,
   "metadata": {},
   "outputs": [],
   "source": []
  },
  {
   "cell_type": "markdown",
   "metadata": {},
   "source": [
    "### Try it!"
   ]
  },
  {
   "cell_type": "markdown",
   "metadata": {},
   "source": [
    "Write a program that looks at numbers from 1 to 100. For multiples of three, print \"Fizz\" instead of the number and for the multiples of five, print \"Buzz\". For numbers that are multiples of both three and five print \"FizzBuzz\". For all other numbers, simply print the number."
   ]
  },
  {
   "cell_type": "code",
   "execution_count": null,
   "metadata": {},
   "outputs": [],
   "source": []
  }
 ],
 "metadata": {
  "kernelspec": {
   "display_name": "Python 3",
   "language": "python",
   "name": "python3"
  },
  "language_info": {
   "codemirror_mode": {
    "name": "ipython",
    "version": 3
   },
   "file_extension": ".py",
   "mimetype": "text/x-python",
   "name": "python",
   "nbconvert_exporter": "python",
   "pygments_lexer": "ipython3",
   "version": "3.8.8"
  }
 },
 "nbformat": 4,
 "nbformat_minor": 4
}
